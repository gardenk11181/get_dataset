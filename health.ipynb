{
 "cells": [
  {
   "cell_type": "code",
   "execution_count": 4,
   "metadata": {
    "collapsed": true
   },
   "outputs": [
    {
     "name": "stdout",
     "output_type": "stream",
     "text": [
      "/Users/gardenmini/PycharmProjects/get_dataset/health\n"
     ]
    }
   ],
   "source": [
    "%cd /Users/gardenmini/PycharmProjects/get_dataset/health"
   ]
  },
  {
   "cell_type": "code",
   "execution_count": 5,
   "outputs": [],
   "source": [
    "import pandas as pd\n",
    "import pickle\n",
    "import numpy as np\n",
    "import os\n",
    "import matplotlib.pyplot as plt\n",
    "from sklearn.model_selection import train_test_split"
   ],
   "metadata": {
    "collapsed": false,
    "pycharm": {
     "name": "#%%\n"
    }
   }
  },
  {
   "cell_type": "code",
   "execution_count": 6,
   "outputs": [
    {
     "name": "stderr",
     "output_type": "stream",
     "text": [
      "/Library/Frameworks/Python.framework/Versions/3.9/lib/python3.9/site-packages/IPython/core/interactiveshell.py:3169: DtypeWarning: Columns (0) have mixed types.Specify dtype option on import or set low_memory=False.\n",
      "  has_raised = await self.run_ast_nodes(code_ast.body, cell_name,\n"
     ]
    }
   ],
   "source": [
    "health = pd.read_csv('health.txt', index_col=0)"
   ],
   "metadata": {
    "collapsed": false,
    "pycharm": {
     "name": "#%%\n"
    }
   }
  },
  {
   "cell_type": "code",
   "execution_count": 7,
   "outputs": [],
   "source": [
    "data = health.drop(columns=['YEAR_t', 'trainset']).dropna()"
   ],
   "metadata": {
    "collapsed": false,
    "pycharm": {
     "name": "#%%\n"
    }
   }
  },
  {
   "cell_type": "code",
   "execution_count": 8,
   "outputs": [],
   "source": [
    "data = data[data.age_MISS == 0]\n",
    "data = data.drop(columns='age_MISS')"
   ],
   "metadata": {
    "collapsed": false,
    "pycharm": {
     "name": "#%%\n"
    }
   }
  },
  {
   "cell_type": "code",
   "execution_count": 9,
   "outputs": [],
   "source": [
    "data.index = np.arange(0,138309)"
   ],
   "metadata": {
    "collapsed": false,
    "pycharm": {
     "name": "#%%\n"
    }
   }
  },
  {
   "cell_type": "code",
   "execution_count": 10,
   "outputs": [],
   "source": [
    "data.to_pickle('health.pkl')"
   ],
   "metadata": {
    "collapsed": false,
    "pycharm": {
     "name": "#%%\n"
    }
   }
  },
  {
   "cell_type": "code",
   "execution_count": 42,
   "outputs": [],
   "source": [
    "with open('health.pkl', 'rb') as f:\n",
    "    df = pickle.load(f)"
   ],
   "metadata": {
    "collapsed": false,
    "pycharm": {
     "name": "#%%\n"
    }
   }
  },
  {
   "cell_type": "code",
   "execution_count": 43,
   "outputs": [],
   "source": [
    "df.ClaimsTruncated = df.ClaimsTruncated.astype('int').astype('category')"
   ],
   "metadata": {
    "collapsed": false,
    "pycharm": {
     "name": "#%%\n"
    }
   }
  },
  {
   "cell_type": "code",
   "execution_count": 44,
   "outputs": [],
   "source": [
    "age = df.apply(lambda x: 0 if x.loc['age_05':'age_65'].sum()==1 else 1, axis=1)"
   ],
   "metadata": {
    "collapsed": false,
    "pycharm": {
     "name": "#%%\n"
    }
   }
  },
  {
   "cell_type": "code",
   "execution_count": 45,
   "outputs": [],
   "source": [
    "df = df.drop(columns=['age_05', 'age_15', 'age_25', 'age_35'\n",
    "                 , 'age_45', 'age_55', 'age_65', 'age_75'\n",
    "                 , 'age_85'])"
   ],
   "metadata": {
    "collapsed": false,
    "pycharm": {
     "name": "#%%\n"
    }
   }
  },
  {
   "cell_type": "code",
   "execution_count": 46,
   "outputs": [],
   "source": [
    "df.DaysInHospital = df.DaysInHospital.apply(lambda x: 0 if x == 0 else 1)"
   ],
   "metadata": {
    "collapsed": false,
    "pycharm": {
     "name": "#%%\n"
    }
   }
  },
  {
   "cell_type": "code",
   "execution_count": 47,
   "outputs": [],
   "source": [
    "categorical = ['ClaimsTruncated', 'DaysInHospital', 'sexMALE', 'sexFEMALE',\n",
    "               'sexMISS', 'labNull', 'drugNull']"
   ],
   "metadata": {
    "collapsed": false,
    "pycharm": {
     "name": "#%%\n"
    }
   }
  },
  {
   "cell_type": "code",
   "execution_count": 48,
   "outputs": [],
   "source": [
    "df_categorical = df[categorical]\n",
    "df_numerical = df.drop(columns = categorical)"
   ],
   "metadata": {
    "collapsed": false,
    "pycharm": {
     "name": "#%%\n"
    }
   }
  },
  {
   "cell_type": "code",
   "execution_count": 49,
   "outputs": [],
   "source": [
    "hot_categorical = pd.concat([df_categorical[x].astype('int').astype('category') for x in df_categorical], axis=1)\n",
    "hot_categorical.columns = df_categorical.columns"
   ],
   "metadata": {
    "collapsed": false,
    "pycharm": {
     "name": "#%%\n"
    }
   }
  },
  {
   "cell_type": "code",
   "execution_count": 50,
   "outputs": [],
   "source": [
    "one_hot_numeric = pd.concat([pd.cut(df_numerical[name], 5) for name in df_numerical], axis=1)\n",
    "one_hot_numeric.columns = df_numerical.columns\n",
    "one_hot_numeric = pd.concat([pd.get_dummies(one_hot_numeric[name], prefix=one_hot_numeric[name].name)\n",
    "                                     for name in one_hot_numeric], axis=1)"
   ],
   "metadata": {
    "collapsed": false,
    "pycharm": {
     "name": "#%%\n"
    }
   }
  },
  {
   "cell_type": "code",
   "execution_count": 51,
   "outputs": [],
   "source": [
    "one_hot = pd.concat([hot_categorical.iloc[:, 2:], one_hot_numeric, hot_categorical.iloc[:, 0:2]], axis=1)\n",
    "one_hot['age'] = age"
   ],
   "metadata": {
    "collapsed": false,
    "pycharm": {
     "name": "#%%\n"
    }
   }
  },
  {
   "cell_type": "code",
   "execution_count": 52,
   "outputs": [
    {
     "name": "stdout",
     "output_type": "stream",
     "text": [
      "/Users/gardenmini/PycharmProjects/get_dataset/health\n"
     ]
    }
   ],
   "source": [
    "%cd /Users/gardenmini/PycharmProjects/get_dataset/health"
   ],
   "metadata": {
    "collapsed": false,
    "pycharm": {
     "name": "#%%\n"
    }
   }
  },
  {
   "cell_type": "code",
   "execution_count": 53,
   "outputs": [],
   "source": [
    "one_hot.rename(columns={'DaysInHospital': 'label'}, inplace=True)"
   ],
   "metadata": {
    "collapsed": false,
    "pycharm": {
     "name": "#%%\n"
    }
   }
  },
  {
   "cell_type": "code",
   "execution_count": 54,
   "outputs": [],
   "source": [
    "train, test = train_test_split(one_hot, test_size=0.2)\n",
    "train.index = range(len(train))\n",
    "test.index = range(len(test))\n",
    "train.to_pickle('./health_train.pkl')\n",
    "test.to_pickle('./health_test.pkl')"
   ],
   "metadata": {
    "collapsed": false,
    "pycharm": {
     "name": "#%%\n"
    }
   }
  },
  {
   "cell_type": "code",
   "execution_count": 55,
   "outputs": [
    {
     "data": {
      "text/plain": "  sexMALE sexFEMALE sexMISS labNull drugNull  no_Claims_(0.958, 9.4]  \\\n0       0         1       0       0        1                       1   \n1       0         1       0       0        0                       0   \n2       1         0       0       1        0                       0   \n3       0         1       0       1        1                       1   \n4       0         1       0       0        0                       0   \n\n   no_Claims_(9.4, 17.8]  no_Claims_(17.8, 26.2]  no_Claims_(26.2, 34.6]  \\\n0                      0                       0                       0   \n1                      0                       1                       0   \n2                      1                       0                       0   \n3                      0                       0                       0   \n4                      1                       0                       0   \n\n   no_Claims_(34.6, 43.0]  ...  labCount_ave_(6.0, 8.0]  \\\n0                       0  ...                        0   \n1                       0  ...                        0   \n2                       0  ...                        0   \n3                       0  ...                        0   \n4                       0  ...                        0   \n\n   labCount_ave_(8.0, 10.0]  labcount_months_(-0.012, 2.4]  \\\n0                         0                              1   \n1                         0                              0   \n2                         0                              1   \n3                         0                              1   \n4                         0                              1   \n\n   labcount_months_(2.4, 4.8]  labcount_months_(4.8, 7.2]  \\\n0                           0                           0   \n1                           0                           1   \n2                           0                           0   \n3                           0                           0   \n4                           0                           0   \n\n   labcount_months_(7.2, 9.6]  labcount_months_(9.6, 12.0]  ClaimsTruncated  \\\n0                           0                            0                0   \n1                           0                            0                0   \n2                           0                            0                0   \n3                           0                            0                0   \n4                           0                            0                0   \n\n   label  age  \n0      0    0  \n1      0    0  \n2      0    0  \n3      0    0  \n4      1    1  \n\n[5 rows x 623 columns]",
      "text/html": "<div>\n<style scoped>\n    .dataframe tbody tr th:only-of-type {\n        vertical-align: middle;\n    }\n\n    .dataframe tbody tr th {\n        vertical-align: top;\n    }\n\n    .dataframe thead th {\n        text-align: right;\n    }\n</style>\n<table border=\"1\" class=\"dataframe\">\n  <thead>\n    <tr style=\"text-align: right;\">\n      <th></th>\n      <th>sexMALE</th>\n      <th>sexFEMALE</th>\n      <th>sexMISS</th>\n      <th>labNull</th>\n      <th>drugNull</th>\n      <th>no_Claims_(0.958, 9.4]</th>\n      <th>no_Claims_(9.4, 17.8]</th>\n      <th>no_Claims_(17.8, 26.2]</th>\n      <th>no_Claims_(26.2, 34.6]</th>\n      <th>no_Claims_(34.6, 43.0]</th>\n      <th>...</th>\n      <th>labCount_ave_(6.0, 8.0]</th>\n      <th>labCount_ave_(8.0, 10.0]</th>\n      <th>labcount_months_(-0.012, 2.4]</th>\n      <th>labcount_months_(2.4, 4.8]</th>\n      <th>labcount_months_(4.8, 7.2]</th>\n      <th>labcount_months_(7.2, 9.6]</th>\n      <th>labcount_months_(9.6, 12.0]</th>\n      <th>ClaimsTruncated</th>\n      <th>label</th>\n      <th>age</th>\n    </tr>\n  </thead>\n  <tbody>\n    <tr>\n      <th>0</th>\n      <td>0</td>\n      <td>1</td>\n      <td>0</td>\n      <td>0</td>\n      <td>1</td>\n      <td>1</td>\n      <td>0</td>\n      <td>0</td>\n      <td>0</td>\n      <td>0</td>\n      <td>...</td>\n      <td>0</td>\n      <td>0</td>\n      <td>1</td>\n      <td>0</td>\n      <td>0</td>\n      <td>0</td>\n      <td>0</td>\n      <td>0</td>\n      <td>0</td>\n      <td>0</td>\n    </tr>\n    <tr>\n      <th>1</th>\n      <td>0</td>\n      <td>1</td>\n      <td>0</td>\n      <td>0</td>\n      <td>0</td>\n      <td>0</td>\n      <td>0</td>\n      <td>1</td>\n      <td>0</td>\n      <td>0</td>\n      <td>...</td>\n      <td>0</td>\n      <td>0</td>\n      <td>0</td>\n      <td>0</td>\n      <td>1</td>\n      <td>0</td>\n      <td>0</td>\n      <td>0</td>\n      <td>0</td>\n      <td>0</td>\n    </tr>\n    <tr>\n      <th>2</th>\n      <td>1</td>\n      <td>0</td>\n      <td>0</td>\n      <td>1</td>\n      <td>0</td>\n      <td>0</td>\n      <td>1</td>\n      <td>0</td>\n      <td>0</td>\n      <td>0</td>\n      <td>...</td>\n      <td>0</td>\n      <td>0</td>\n      <td>1</td>\n      <td>0</td>\n      <td>0</td>\n      <td>0</td>\n      <td>0</td>\n      <td>0</td>\n      <td>0</td>\n      <td>0</td>\n    </tr>\n    <tr>\n      <th>3</th>\n      <td>0</td>\n      <td>1</td>\n      <td>0</td>\n      <td>1</td>\n      <td>1</td>\n      <td>1</td>\n      <td>0</td>\n      <td>0</td>\n      <td>0</td>\n      <td>0</td>\n      <td>...</td>\n      <td>0</td>\n      <td>0</td>\n      <td>1</td>\n      <td>0</td>\n      <td>0</td>\n      <td>0</td>\n      <td>0</td>\n      <td>0</td>\n      <td>0</td>\n      <td>0</td>\n    </tr>\n    <tr>\n      <th>4</th>\n      <td>0</td>\n      <td>1</td>\n      <td>0</td>\n      <td>0</td>\n      <td>0</td>\n      <td>0</td>\n      <td>1</td>\n      <td>0</td>\n      <td>0</td>\n      <td>0</td>\n      <td>...</td>\n      <td>0</td>\n      <td>0</td>\n      <td>1</td>\n      <td>0</td>\n      <td>0</td>\n      <td>0</td>\n      <td>0</td>\n      <td>0</td>\n      <td>1</td>\n      <td>1</td>\n    </tr>\n  </tbody>\n</table>\n<p>5 rows × 623 columns</p>\n</div>"
     },
     "execution_count": 55,
     "metadata": {},
     "output_type": "execute_result"
    }
   ],
   "source": [
    "one_hot.head()"
   ],
   "metadata": {
    "collapsed": false,
    "pycharm": {
     "name": "#%%\n"
    }
   }
  }
 ],
 "metadata": {
  "kernelspec": {
   "display_name": "Python 3",
   "language": "python",
   "name": "python3"
  },
  "language_info": {
   "codemirror_mode": {
    "name": "ipython",
    "version": 2
   },
   "file_extension": ".py",
   "mimetype": "text/x-python",
   "name": "python",
   "nbconvert_exporter": "python",
   "pygments_lexer": "ipython2",
   "version": "2.7.6"
  }
 },
 "nbformat": 4,
 "nbformat_minor": 0
}