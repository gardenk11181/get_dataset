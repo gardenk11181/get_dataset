{
 "cells": [
  {
   "cell_type": "code",
   "execution_count": 13,
   "metadata": {
    "collapsed": true
   },
   "outputs": [],
   "source": [
    "import io\n",
    "import pickle5 as pickle"
   ]
  },
  {
   "cell_type": "code",
   "execution_count": 31,
   "outputs": [],
   "source": [
    "dir_path = './amazon/'"
   ],
   "metadata": {
    "collapsed": false,
    "pycharm": {
     "name": "#%%\n"
    }
   }
  },
  {
   "cell_type": "code",
   "execution_count": 27,
   "outputs": [],
   "source": [
    "def preprocess_words(words: list) -> str:\n",
    "    document = ''\n",
    "    for i in range(len(words)):\n",
    "        tmp = words[i].split(':')\n",
    "        for j in range(int(tmp[1])):\n",
    "            document += tmp[0] + ' '\n",
    "    return document"
   ],
   "metadata": {
    "collapsed": false,
    "pycharm": {
     "name": "#%%\n"
    }
   }
  },
  {
   "cell_type": "code",
   "execution_count": 26,
   "outputs": [],
   "source": [
    "def file_to_corpus(file: io.TextIOWrapper) -> (list, list):\n",
    "    corpus = []\n",
    "    labels = []\n",
    "    for review in file:\n",
    "        contents = review.split()\n",
    "        words = contents[:-1]\n",
    "        document = preprocess_words(words)\n",
    "        label = contents[-1].split(':')[1]\n",
    "        y = 0 if label == 'negative' else 1\n",
    "        corpus.append(document)\n",
    "        labels.append(y)\n",
    "    return corpus, labels"
   ],
   "metadata": {
    "collapsed": false,
    "pycharm": {
     "name": "#%%\n"
    }
   }
  },
  {
   "cell_type": "code",
   "execution_count": 42,
   "outputs": [],
   "source": [
    "domains = ['books', 'dvd', 'electronics', 'kitchen']\n",
    "kinds = ['negative', 'positive', 'unlabeled']\n",
    "for domain in domains:\n",
    "    save_path = './amazon/%s/%s.pkl' % (domain, domain)\n",
    "    corpus_train = []\n",
    "    corpus_test = []\n",
    "    labels_train = []\n",
    "    labels_test = []\n",
    "    # training set (labeled)\n",
    "    for kind in kinds[:-1]:\n",
    "        file_path = './amazon/%s/%s.review' % (domain, kind)\n",
    "        with open(file_path, 'r') as r:\n",
    "            corpus, labels = file_to_corpus(r)\n",
    "            corpus_train.extend(corpus)\n",
    "            labels_train.extend(labels)\n",
    "    # test set (unlabeled)\n",
    "    file_path = './amazon/%s/%s.review' % (domain, kinds[-1])\n",
    "    with open(file_path, 'r') as r:\n",
    "        corpus, labels = file_to_corpus(r)\n",
    "        corpus_test.extend(corpus)\n",
    "        labels_test.extend(labels)\n",
    "    with open(save_path, 'wb') as w:\n",
    "        pickle.dump([corpus_train, labels_train, corpus_test, labels_test], w)"
   ],
   "metadata": {
    "collapsed": false,
    "pycharm": {
     "name": "#%%\n"
    }
   }
  },
  {
   "cell_type": "code",
   "execution_count": 44,
   "outputs": [
    {
     "name": "stdout",
     "output_type": "stream",
     "text": [
      "books: 2000\n",
      "books: 4465\n",
      "dvd: 2000\n",
      "dvd: 3586\n",
      "electronics: 2000\n",
      "electronics: 5681\n",
      "kitchen: 2000\n",
      "kitchen: 5945\n"
     ]
    }
   ],
   "source": [
    "for domain in domains:\n",
    "    save_path = './amazon/%s/%s.pkl' % (domain, domain)\n",
    "    with open(save_path, 'rb') as r:\n",
    "        corpus_train, labels_train, corpus_test, labels_test = pickle.load(r)\n",
    "    print(domain + ': ' + str(len(labels_train)))\n",
    "    print(domain + ': ' + str(len(labels_test)))"
   ],
   "metadata": {
    "collapsed": false,
    "pycharm": {
     "name": "#%%\n"
    }
   }
  }
 ],
 "metadata": {
  "kernelspec": {
   "display_name": "Python 3",
   "language": "python",
   "name": "python3"
  },
  "language_info": {
   "codemirror_mode": {
    "name": "ipython",
    "version": 2
   },
   "file_extension": ".py",
   "mimetype": "text/x-python",
   "name": "python",
   "nbconvert_exporter": "python",
   "pygments_lexer": "ipython2",
   "version": "2.7.6"
  }
 },
 "nbformat": 4,
 "nbformat_minor": 0
}